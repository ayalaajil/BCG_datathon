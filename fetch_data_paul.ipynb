{
 "cells": [
  {
   "cell_type": "code",
   "execution_count": 2,
   "metadata": {},
   "outputs": [],
   "source": [
    "# Imports\n",
    "\n",
    "import numpy as np\n",
    "import matplotlib.pyplot as plt\n",
    "import pandas as pd\n",
    "import requests\n",
    "import calendar"
   ]
  },
  {
   "cell_type": "code",
   "execution_count": 24,
   "metadata": {},
   "outputs": [],
   "source": [
    "# La fonction renvoie sous forme de dataframe, le taux d'occupation et le débit pour chaque heure de la journée\n",
    "\n",
    "\n",
    "def get_road_data_by_date(year, month, day, libelle, libelle_nd_amont, libelle_nd_aval):\n",
    "\n",
    "    # API Url\n",
    "    api_url = \"https://opendata.paris.fr/api/explore/v2.1/catalog/datasets/comptages-routiers-permanents/records\"\n",
    "\n",
    "    # Request parameters\n",
    "    params = {\n",
    "        \"limit\": 24,\n",
    "        \"order_by\": \"t_1h\",\n",
    "        \"timezone\": \"CET\",\n",
    "        \"refine\": [\n",
    "            f\"t_1h:{year}/{month}/{day}\",\n",
    "            f\"libelle_nd_amont:{libelle_nd_amont}\",\n",
    "            f\"libelle_nd_aval:{libelle_nd_aval}\",\n",
    "            f\"libelle:{libelle}\"\n",
    "        ]\n",
    "    }\n",
    "\n",
    "    # Get response\n",
    "    response = requests.get(api_url, params=params)\n",
    "\n",
    "    # Fetch data\n",
    "    if response.status_code == 200:\n",
    "        records = response.json().get(\"results\", [])\n",
    "        if records:\n",
    "            df = pd.DataFrame(columns=[\"year\", \"month\", \"day\", \"hour\", \"flow rate\", \"occupancy rate\", \"trafic state\"])\n",
    "            for index, record in enumerate(records):\n",
    "                t_1h = record[\"t_1h\"]\n",
    "                q = record[\"q\"]\n",
    "                k = record[\"k\"]\n",
    "                trafic_state = record[\"etat_trafic\"]\n",
    "                year = t_1h[:4]\n",
    "                month = t_1h[5:7]\n",
    "                day = t_1h[8:10]\n",
    "                hour = t_1h[11:13]\n",
    "                \n",
    "                df.loc[index] = [year, month, day, hour, q, k, trafic_state]\n",
    "        else:\n",
    "            print(f\"No data found ({year}/{month}/{day}).\")\n",
    "            df = pd.DataFrame(columns=[\"year\", \"month\", \"day\", \"hour\", \"flow rate\", \"occupancy rate\", \"trafic state\"])\n",
    "    else:\n",
    "        print(f\"API Error : {response.status_code}\")\n",
    "    \n",
    "    empty_df = pd.DataFrame({\"year\": year, \"month\": month, \"day\": day, \"hour\": [str(i).zfill(2) for i in range(24)]})\n",
    "\n",
    "    filled_df = pd.merge(df, empty_df, on=['year', 'month', 'day', 'hour'], how=\"outer\")\n",
    "    return filled_df\n"
   ]
  },
  {
   "cell_type": "code",
   "execution_count": 26,
   "metadata": {},
   "outputs": [
    {
     "name": "stdout",
     "output_type": "stream",
     "text": [
      "    year month day hour  flow rate  occupancy rate trafic state\n",
      "0   2024    11  15   00        NaN             NaN          NaN\n",
      "1   2024    11  15   01        NaN             NaN          NaN\n",
      "2   2024    11  15   02        NaN             NaN          NaN\n",
      "3   2024    11  15   03        NaN             NaN          NaN\n",
      "4   2024    11  15   04        NaN             NaN          NaN\n",
      "5   2024    11  15   05        NaN             NaN          NaN\n",
      "6   2024    11  15   06        NaN             NaN          NaN\n",
      "7   2024    11  15   07        NaN             NaN          NaN\n",
      "8   2024    11  15   08        NaN             NaN          NaN\n",
      "9   2024    11  15   09        NaN             NaN          NaN\n",
      "10  2024    11  15   10      254.0         4.09445       Fluide\n",
      "11  2024    11  15   11        NaN             NaN          NaN\n",
      "12  2024    11  15   12        NaN             NaN          NaN\n",
      "13  2024    11  15   13        NaN             NaN          NaN\n",
      "14  2024    11  15   14        NaN             NaN          NaN\n",
      "15  2024    11  15   15        NaN             NaN          NaN\n",
      "16  2024    11  15   16        NaN             NaN          NaN\n",
      "17  2024    11  15   17        NaN             NaN          NaN\n",
      "18  2024    11  15   18        NaN             NaN          NaN\n",
      "19  2024    11  15   19        NaN             NaN          NaN\n",
      "20  2024    11  15   20        NaN             NaN          NaN\n",
      "21  2024    11  15   21        NaN             NaN          NaN\n",
      "22  2024    11  15   22        NaN             NaN          NaN\n",
      "23  2024    11  15   23        NaN             NaN          NaN\n"
     ]
    }
   ],
   "source": [
    "print(get_road_data_by_date(\"2024\", \"11\", \"15\", \"AV_Champs_Elysees\", \"Av_Champs_Elysees-Washington\", \"Av_Champs_Elysees-Berri\"))\n",
    "#print(get_road_data_by_date(\"2023\", \"12\", \"06\", \"Convention\", \"Convention-Blomet\", \"Lecourbe-Convention\"))\n",
    "#print(get_road_data_by_date(\"2023\", \"12\", \"06\", \"St_Antoine\", \"Bastille-St_Antoine\", \"St_Antoine-Jacques_Coeur\"))\n",
    "\n",
    "# q: h flow rate (number of vehicle per hour)\n",
    "# k: occupancy rate (time spent by a vehicle in one hour, in %, 100% = 1 hour)"
   ]
  },
  {
   "cell_type": "code",
   "execution_count": 22,
   "metadata": {},
   "outputs": [],
   "source": [
    "# La fonction renvoie sous forme de dataframe, le taux d'occupation et le débit, pour un mois donné\n",
    "\n",
    "\n",
    "def get_road_data_per_month(year, month, libelle, libelle_nd_amont, libelle_nd_aval):\n",
    "\n",
    "    number_of_days = calendar.monthrange(int(year), int(month))[1]\n",
    "\n",
    "    dfs = []\n",
    "\n",
    "    for index in range(number_of_days):\n",
    "        day = str(index + 1).zfill(2)\n",
    "        dfs.append(get_road_data_by_date(year, month, day, libelle, libelle_nd_amont, libelle_nd_aval))\n",
    "    \n",
    "    df = pd.concat(dfs, ignore_index=True)\n",
    "    return df\n"
   ]
  },
  {
   "cell_type": "code",
   "execution_count": 25,
   "metadata": {},
   "outputs": [
    {
     "name": "stderr",
     "output_type": "stream",
     "text": [
      "/var/folders/cp/rnb5h_ld0pzb64z4cgkyxd3h0000gn/T/ipykernel_18597/3594335461.py:40: FutureWarning: The behavior of DataFrame concatenation with empty or all-NA entries is deprecated. In a future version, this will no longer exclude empty or all-NA columns when determining the result dtypes. To retain the old behavior, exclude the relevant entries before the concat operation.\n",
      "  df.loc[index] = [year, month, day, hour, q, k, trafic_state]\n",
      "/var/folders/cp/rnb5h_ld0pzb64z4cgkyxd3h0000gn/T/ipykernel_18597/3594335461.py:40: FutureWarning: The behavior of DataFrame concatenation with empty or all-NA entries is deprecated. In a future version, this will no longer exclude empty or all-NA columns when determining the result dtypes. To retain the old behavior, exclude the relevant entries before the concat operation.\n",
      "  df.loc[index] = [year, month, day, hour, q, k, trafic_state]\n",
      "/var/folders/cp/rnb5h_ld0pzb64z4cgkyxd3h0000gn/T/ipykernel_18597/3594335461.py:40: FutureWarning: The behavior of DataFrame concatenation with empty or all-NA entries is deprecated. In a future version, this will no longer exclude empty or all-NA columns when determining the result dtypes. To retain the old behavior, exclude the relevant entries before the concat operation.\n",
      "  df.loc[index] = [year, month, day, hour, q, k, trafic_state]\n",
      "/var/folders/cp/rnb5h_ld0pzb64z4cgkyxd3h0000gn/T/ipykernel_18597/3594335461.py:40: FutureWarning: The behavior of DataFrame concatenation with empty or all-NA entries is deprecated. In a future version, this will no longer exclude empty or all-NA columns when determining the result dtypes. To retain the old behavior, exclude the relevant entries before the concat operation.\n",
      "  df.loc[index] = [year, month, day, hour, q, k, trafic_state]\n",
      "/var/folders/cp/rnb5h_ld0pzb64z4cgkyxd3h0000gn/T/ipykernel_18597/3594335461.py:40: FutureWarning: The behavior of DataFrame concatenation with empty or all-NA entries is deprecated. In a future version, this will no longer exclude empty or all-NA columns when determining the result dtypes. To retain the old behavior, exclude the relevant entries before the concat operation.\n",
      "  df.loc[index] = [year, month, day, hour, q, k, trafic_state]\n",
      "/var/folders/cp/rnb5h_ld0pzb64z4cgkyxd3h0000gn/T/ipykernel_18597/3594335461.py:40: FutureWarning: The behavior of DataFrame concatenation with empty or all-NA entries is deprecated. In a future version, this will no longer exclude empty or all-NA columns when determining the result dtypes. To retain the old behavior, exclude the relevant entries before the concat operation.\n",
      "  df.loc[index] = [year, month, day, hour, q, k, trafic_state]\n",
      "/var/folders/cp/rnb5h_ld0pzb64z4cgkyxd3h0000gn/T/ipykernel_18597/3594335461.py:40: FutureWarning: The behavior of DataFrame concatenation with empty or all-NA entries is deprecated. In a future version, this will no longer exclude empty or all-NA columns when determining the result dtypes. To retain the old behavior, exclude the relevant entries before the concat operation.\n",
      "  df.loc[index] = [year, month, day, hour, q, k, trafic_state]\n",
      "/var/folders/cp/rnb5h_ld0pzb64z4cgkyxd3h0000gn/T/ipykernel_18597/3594335461.py:40: FutureWarning: The behavior of DataFrame concatenation with empty or all-NA entries is deprecated. In a future version, this will no longer exclude empty or all-NA columns when determining the result dtypes. To retain the old behavior, exclude the relevant entries before the concat operation.\n",
      "  df.loc[index] = [year, month, day, hour, q, k, trafic_state]\n",
      "/var/folders/cp/rnb5h_ld0pzb64z4cgkyxd3h0000gn/T/ipykernel_18597/3594335461.py:40: FutureWarning: The behavior of DataFrame concatenation with empty or all-NA entries is deprecated. In a future version, this will no longer exclude empty or all-NA columns when determining the result dtypes. To retain the old behavior, exclude the relevant entries before the concat operation.\n",
      "  df.loc[index] = [year, month, day, hour, q, k, trafic_state]\n",
      "/var/folders/cp/rnb5h_ld0pzb64z4cgkyxd3h0000gn/T/ipykernel_18597/3594335461.py:40: FutureWarning: The behavior of DataFrame concatenation with empty or all-NA entries is deprecated. In a future version, this will no longer exclude empty or all-NA columns when determining the result dtypes. To retain the old behavior, exclude the relevant entries before the concat operation.\n",
      "  df.loc[index] = [year, month, day, hour, q, k, trafic_state]\n",
      "/var/folders/cp/rnb5h_ld0pzb64z4cgkyxd3h0000gn/T/ipykernel_18597/3594335461.py:40: FutureWarning: The behavior of DataFrame concatenation with empty or all-NA entries is deprecated. In a future version, this will no longer exclude empty or all-NA columns when determining the result dtypes. To retain the old behavior, exclude the relevant entries before the concat operation.\n",
      "  df.loc[index] = [year, month, day, hour, q, k, trafic_state]\n",
      "/var/folders/cp/rnb5h_ld0pzb64z4cgkyxd3h0000gn/T/ipykernel_18597/3594335461.py:40: FutureWarning: The behavior of DataFrame concatenation with empty or all-NA entries is deprecated. In a future version, this will no longer exclude empty or all-NA columns when determining the result dtypes. To retain the old behavior, exclude the relevant entries before the concat operation.\n",
      "  df.loc[index] = [year, month, day, hour, q, k, trafic_state]\n",
      "/var/folders/cp/rnb5h_ld0pzb64z4cgkyxd3h0000gn/T/ipykernel_18597/3594335461.py:40: FutureWarning: The behavior of DataFrame concatenation with empty or all-NA entries is deprecated. In a future version, this will no longer exclude empty or all-NA columns when determining the result dtypes. To retain the old behavior, exclude the relevant entries before the concat operation.\n",
      "  df.loc[index] = [year, month, day, hour, q, k, trafic_state]\n",
      "/var/folders/cp/rnb5h_ld0pzb64z4cgkyxd3h0000gn/T/ipykernel_18597/3594335461.py:40: FutureWarning: The behavior of DataFrame concatenation with empty or all-NA entries is deprecated. In a future version, this will no longer exclude empty or all-NA columns when determining the result dtypes. To retain the old behavior, exclude the relevant entries before the concat operation.\n",
      "  df.loc[index] = [year, month, day, hour, q, k, trafic_state]\n",
      "/var/folders/cp/rnb5h_ld0pzb64z4cgkyxd3h0000gn/T/ipykernel_18597/3594335461.py:40: FutureWarning: The behavior of DataFrame concatenation with empty or all-NA entries is deprecated. In a future version, this will no longer exclude empty or all-NA columns when determining the result dtypes. To retain the old behavior, exclude the relevant entries before the concat operation.\n",
      "  df.loc[index] = [year, month, day, hour, q, k, trafic_state]\n",
      "/var/folders/cp/rnb5h_ld0pzb64z4cgkyxd3h0000gn/T/ipykernel_18597/3594335461.py:40: FutureWarning: The behavior of DataFrame concatenation with empty or all-NA entries is deprecated. In a future version, this will no longer exclude empty or all-NA columns when determining the result dtypes. To retain the old behavior, exclude the relevant entries before the concat operation.\n",
      "  df.loc[index] = [year, month, day, hour, q, k, trafic_state]\n",
      "/var/folders/cp/rnb5h_ld0pzb64z4cgkyxd3h0000gn/T/ipykernel_18597/3594335461.py:40: FutureWarning: The behavior of DataFrame concatenation with empty or all-NA entries is deprecated. In a future version, this will no longer exclude empty or all-NA columns when determining the result dtypes. To retain the old behavior, exclude the relevant entries before the concat operation.\n",
      "  df.loc[index] = [year, month, day, hour, q, k, trafic_state]\n",
      "/var/folders/cp/rnb5h_ld0pzb64z4cgkyxd3h0000gn/T/ipykernel_18597/3594335461.py:40: FutureWarning: The behavior of DataFrame concatenation with empty or all-NA entries is deprecated. In a future version, this will no longer exclude empty or all-NA columns when determining the result dtypes. To retain the old behavior, exclude the relevant entries before the concat operation.\n",
      "  df.loc[index] = [year, month, day, hour, q, k, trafic_state]\n",
      "/var/folders/cp/rnb5h_ld0pzb64z4cgkyxd3h0000gn/T/ipykernel_18597/3594335461.py:40: FutureWarning: The behavior of DataFrame concatenation with empty or all-NA entries is deprecated. In a future version, this will no longer exclude empty or all-NA columns when determining the result dtypes. To retain the old behavior, exclude the relevant entries before the concat operation.\n",
      "  df.loc[index] = [year, month, day, hour, q, k, trafic_state]\n"
     ]
    },
    {
     "name": "stdout",
     "output_type": "stream",
     "text": [
      "     year month day hour  flow rate  occupancy rate trafic state\n",
      "0    2023    11  01   00        NaN             NaN          NaN\n",
      "1    2023    11  01   01        NaN             NaN          NaN\n",
      "2    2023    11  01   02        NaN             NaN          NaN\n",
      "3    2023    11  01   03        NaN             NaN          NaN\n",
      "4    2023    11  01   04      704.0        11.40389       Fluide\n",
      "..    ...   ...  ..  ...        ...             ...          ...\n",
      "715  2023    11  30   19     1457.0        28.16000   Pré-saturé\n",
      "716  2023    11  30   20     1433.0        30.87000       Saturé\n",
      "717  2023    11  30   21     1253.0        24.38111   Pré-saturé\n",
      "718  2023    11  30   22     1069.0        20.40723   Pré-saturé\n",
      "719  2023    11  30   23      950.0        16.66334   Pré-saturé\n",
      "\n",
      "[720 rows x 7 columns]\n"
     ]
    }
   ],
   "source": [
    "print(get_road_data_per_month(\"2023\", \"11\", \"AV_Champs_Elysees\", \"Av_Champs_Elysees-Washington\", \"Av_Champs_Elysees-Berri\"))\n",
    "#print(get_road_data_per_month(\"2024\", \"11\", \"Convention\", \"Convention-Blomet\", \"Lecourbe-Convention\"))\n",
    "#print(get_road_data_per_month(\"2024\", \"11\", \"St_Antoine\", \"Bastille-St_Antoine\", \"St_Antoine-Jacques_Coeur\"))"
   ]
  }
 ],
 "metadata": {
  "kernelspec": {
   "display_name": "Python 3",
   "language": "python",
   "name": "python3"
  },
  "language_info": {
   "codemirror_mode": {
    "name": "ipython",
    "version": 3
   },
   "file_extension": ".py",
   "mimetype": "text/x-python",
   "name": "python",
   "nbconvert_exporter": "python",
   "pygments_lexer": "ipython3",
   "version": "3.9.6"
  }
 },
 "nbformat": 4,
 "nbformat_minor": 2
}
